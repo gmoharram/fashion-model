{
 "cells": [
  {
   "cell_type": "code",
   "execution_count": null,
   "id": "5aca7a60",
   "metadata": {},
   "outputs": [],
   "source": [
    "import pytorch_lightning as pl\n",
    "from pytorch_lightning.callbacks.early_stopping import EarlyStopping\n",
    "import torch\n",
    "\n",
    "if torch.cuda.is_available():\n",
    "    device = torch.device(\"cuda:0\")\n",
    "    accelerator = \"gpu\"\n",
    "elif torch.backends.mps.is_available():\n",
    "    device = torch.device(\"mps\")\n",
    "    accelerator = \"mps\"\n",
    "else:\n",
    "    device = torch.device(\"cpu\")\n",
    "\n",
    "\n",
    "from main_code.dataset import FashionDataset\n",
    "from main_code.nn_definition import FashionAutoEncoder\n",
    "from main_code.evaluation import evaluate_model\n",
    "from main_code.visualization import visualizer, visualize_dataset\n",
    "\n",
    "from utils.save_load_model import save_model, load_model\n",
    "\n",
    "# for auto-reloading external modules\n",
    "# see http://stackoverflow.com/questions/1907993/autoreload-of-modules-in-ipython\n",
    "%load_ext autoreload\n",
    "%autoreload 2"
   ]
  },
  {
   "cell_type": "code",
   "execution_count": null,
   "id": "af1aa63e",
   "metadata": {},
   "outputs": [],
   "source": [
    "#Training Dataset and Dataloader\n",
    "batch_size = 1\n",
    "train_data = FashionDataset('dataset/woman_25_34_caucasian_frontal_standing/trainset.txt')\n",
    "train_dataloader = torch.utils.data.DataLoader(train_data, batch_size=batch_size, shuffle=False)\n",
    "print(\"Trainset Size:\", len(train_data))\n",
    "print(train_data.image_names)\n",
    "\n",
    "num_batches = len(train_dataloader)\n",
    "print(\"Number of Batches:\", num_batches)"
   ]
  },
  {
   "cell_type": "code",
   "execution_count": null,
   "id": "61a9d160",
   "metadata": {},
   "outputs": [],
   "source": [
    "inputs, targets = next(iter(train_dataloader))\n",
    "inputs.shape, targets.shape"
   ]
  },
  {
   "cell_type": "code",
   "execution_count": null,
   "id": "86de2ca7",
   "metadata": {},
   "outputs": [],
   "source": [
    "visualize_dataset(train_data, num_imgs = 1)"
   ]
  },
  {
   "cell_type": "code",
   "execution_count": null,
   "id": "0bba82e7",
   "metadata": {},
   "outputs": [],
   "source": [
    "#Model Initialization\n",
    "hparams = {\n",
    "    'batch_size': batch_size,\n",
    "    'num_batches': num_batches,\n",
    "    'num_resnet_trainable':0,\n",
    "    'optimizer': 'Adam',\n",
    "    'learning_rate': 0.005,\n",
    "    'momentum': 0,\n",
    "}\n",
    "model = FashionAutoEncoder(hparams = hparams)"
   ]
  },
  {
   "cell_type": "code",
   "execution_count": null,
   "id": "545d4261",
   "metadata": {
    "scrolled": true
   },
   "outputs": [],
   "source": [
    "#Initialize Tensorboard Logger\n",
    "logger = pl.loggers.TensorBoardLogger(save_dir='lightning_logs', name=\"logs\")\n",
    "\n",
    "#Initialize Model Trainer \n",
    "trainer = pl.Trainer(\n",
    "    max_epochs=1000,\n",
    "    logger=logger,\n",
    "    log_every_n_steps=1,\n",
    "    callbacks=[EarlyStopping(monitor='val_loss', patience = 50, mode='min')],\n",
    "    accelerator=accelerator,\n",
    "    devices= 1 if accelerator == \"mps\" else None,\n",
    ")"
   ]
  },
  {
   "cell_type": "code",
   "execution_count": null,
   "id": "dc359065",
   "metadata": {
    "scrolled": false
   },
   "outputs": [],
   "source": [
    "#Train Model\n",
    "trainer.fit(model, train_dataloaders = train_dataloader, val_dataloaders = train_dataloader)"
   ]
  },
  {
   "cell_type": "code",
   "execution_count": null,
   "id": "8ee7df1b",
   "metadata": {
    "scrolled": true
   },
   "outputs": [],
   "source": [
    "evaluate_model(model, train_dataloader) #latest best for max num train images: 99.07% for 120 images"
   ]
  },
  {
   "cell_type": "code",
   "execution_count": null,
   "id": "9b3e07b6",
   "metadata": {},
   "outputs": [],
   "source": [
    "visualizer(model, train_data, num_imgs = 5)"
   ]
  },
  {
   "cell_type": "code",
   "execution_count": null,
   "id": "b8231495",
   "metadata": {},
   "outputs": [],
   "source": [
    "save_model(model, 'model')\n",
    "\n",
    "model_loaded = load_model(FashionAutoEncoder, file_name='model')"
   ]
  },
  {
   "cell_type": "code",
   "execution_count": null,
   "id": "b321abcc",
   "metadata": {},
   "outputs": [],
   "source": [
    "%load_ext tensorboard"
   ]
  }
 ],
 "metadata": {
  "kernelspec": {
   "display_name": "Python 3 (ipykernel)",
   "language": "python",
   "name": "python3"
  },
  "language_info": {
   "codemirror_mode": {
    "name": "ipython",
    "version": 3
   },
   "file_extension": ".py",
   "mimetype": "text/x-python",
   "name": "python",
   "nbconvert_exporter": "python",
   "pygments_lexer": "ipython3",
   "version": "3.11.5"
  }
 },
 "nbformat": 4,
 "nbformat_minor": 5
}
